{
  "nbformat": 4,
  "nbformat_minor": 0,
  "metadata": {
    "colab": {
      "provenance": [],
      "authorship_tag": "ABX9TyNN8+gtwkYltsarEBG72/VW",
      "include_colab_link": true
    },
    "kernelspec": {
      "name": "python3",
      "display_name": "Python 3"
    },
    "language_info": {
      "name": "python"
    }
  },
  "cells": [
    {
      "cell_type": "markdown",
      "metadata": {
        "id": "view-in-github",
        "colab_type": "text"
      },
      "source": [
        "<a href=\"https://colab.research.google.com/github/mridulmahajan04/CleaningCourseProject/blob/main/Topsis.ipynb\" target=\"_parent\"><img src=\"https://colab.research.google.com/assets/colab-badge.svg\" alt=\"Open In Colab\"/></a>"
      ]
    },
    {
      "cell_type": "code",
      "source": [
        "def topsis(dataset, weight, impact, filename):\n",
        "    try:\n",
        "        if dataset is None or dataset.empty:\n",
        "            raise ValueError(\"Dataset must not be empty.\")\n",
        "        if not weight or not impact or not filename:\n",
        "            raise ValueError(\"Weights, impacts, and filename must be provided.\")\n",
        "        if not isinstance(weight, list) or not isinstance(impact, list):\n",
        "            raise ValueError(\"Weights and impacts must be lists and seperated by comma.\")\n",
        "        if len(weight) != len(impact):\n",
        "            raise ValueError(\"Number of weights and impacts must match the number of criteria.\")\n",
        "        if dataset.shape[1] - 1 != len(weight):\n",
        "            raise ValueError(\"Number of weights must match the number of numeric columns in the dataset.\")\n",
        "\n",
        "        if not all(impact in ['+', '-'] for impact in impact):\n",
        "            raise ValueError(\"Impacts must only contain '+' or '-'.\")\n",
        "\n",
        "        data = dataset.iloc[:, 1:].values\n",
        "        normalized_data = data / np.sqrt((data**2).sum(axis=0))\n",
        "        norm_data = normalized_data * weight\n",
        "\n",
        "        ideal_case = np.where(np.array(impact) == '+', norm_data.max(axis=0), norm_data.min(axis=0))\n",
        "        worst_case = np.where(np.array(impact) == '+', norm_data.min(axis=0), norm_data.max(axis=0))\n",
        "\n",
        "        distance_best = np.sqrt(((norm_data - ideal_case)**2).sum(axis=1))\n",
        "        distance_worst = np.sqrt(((norm_data - worst_case)**2).sum(axis=1))\n",
        "        score = distance_worst / (distance_worst + distance_best)\n",
        "\n",
        "        dataset['Performance Score'] = score\n",
        "        dataset['Rank'] = dataset['Performance Score'].rank(ascending=False)\n",
        "        dataset.sort_values(by='Rank', inplace=True)\n",
        "\n",
        "        dataset.to_csv(filename, index=False)\n",
        "        print(f\"Results saved successfully to {filename}.\")\n",
        "    except Exception as e:\n",
        "        print(f\"An error occurred: {e}\")\n"
      ],
      "metadata": {
        "id": "u7-E9hxg-rek"
      },
      "execution_count": 177,
      "outputs": []
    },
    {
      "cell_type": "code",
      "source": [
        "import pandas as pd\n",
        "import numpy as np\n",
        "\n",
        "try:\n",
        "    file_path = '102396003-data.xlsx'\n",
        "    data = pd.read_excel(file_path)\n",
        "\n",
        "    data.to_csv('102396003(data).csv', index=False)\n",
        "    datasets = pd.read_csv('102396003(data).csv')\n",
        "\n",
        "    if datasets.shape[1] < 3:\n",
        "        raise ValueError(\"Input file must contain at least three columns.\")\n",
        "    if not np.issubdtype(datasets.iloc[:, 1:].dtypes.values[0], np.number):\n",
        "        raise ValueError(\"From the 2nd to last columns, all values must be numeric.\")\n",
        "\n",
        "    weight = [1, 1, 1, 2, 1]\n",
        "    impact = ['+', '+', '-', '+', '+']\n",
        "\n",
        "    topsis(datasets, weight, impact, \"102396003_result.csv\")\n",
        "\n",
        "except FileNotFoundError:\n",
        "    print(f\"File not found: {file_path}. Please ensure the file exists and the path is correct.\")\n",
        "except Exception as e:\n",
        "    print(f\"An error occurred: {e}\")\n"
      ],
      "metadata": {
        "colab": {
          "base_uri": "https://localhost:8080/"
        },
        "id": "u6c9uh9lSBvT",
        "outputId": "3d19e1c6-ee6d-4605-fda7-08af8b9951e6"
      },
      "execution_count": 178,
      "outputs": [
        {
          "output_type": "stream",
          "name": "stdout",
          "text": [
            "Results saved successfully to 102396003_result.csv.\n"
          ]
        }
      ]
    },
    {
      "cell_type": "code",
      "source": [],
      "metadata": {
        "id": "cin7NSSGSCky"
      },
      "execution_count": null,
      "outputs": []
    }
  ]
}